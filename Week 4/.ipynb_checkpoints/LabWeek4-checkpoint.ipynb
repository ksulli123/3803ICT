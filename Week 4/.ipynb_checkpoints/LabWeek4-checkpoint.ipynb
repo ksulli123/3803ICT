{
 "cells": [
  {
   "cell_type": "code",
   "execution_count": 97,
   "metadata": {},
   "outputs": [
    {
     "name": "stdout",
     "output_type": "stream",
     "text": [
      "    Months  Sales\n",
      "0        1   5384\n",
      "1        2   8081\n",
      "2        3  10282\n",
      "3        4   9156\n",
      "4        5   6118\n",
      "5        6   9139\n",
      "6        7  12460\n",
      "7        8  10717\n",
      "8        9   7825\n",
      "9       10   9693\n",
      "10      11  15177\n",
      "11      12  10990\n"
     ]
    }
   ],
   "source": [
    "import pandas as pd\n",
    "import matplotlib.pyplot as plt\n",
    "  \n",
    "# Define a dictionary containing sales data \n",
    "data = {'Sales':[5384,8081,10282,9156,6118,9139,12460,10717,7825,9693,15177,10990],\n",
    "       'Months':[1,2,3,4,5,6,7,8,9,10,11,12]\n",
    "       }\n",
    "\n",
    "df = pd.DataFrame(data)\n",
    "\n",
    "print(df)"
   ]
  },
  {
   "cell_type": "code",
   "execution_count": 94,
   "metadata": {},
   "outputs": [
    {
     "data": {
      "image/png": "[encoded data removed]",
      "text/plain": [
       "<Figure size 432x288 with 1 Axes>"
      ]
     },
     "metadata": {
      "needs_background": "light"
     },
     "output_type": "display_data"
    }
   ],
   "source": [
    "months = df['Month']\n",
    "sales = df['Sales']\n",
    "\n",
    "plt.plot(months, sales)\n",
    "plt.show()\n",
    "#Trend: Upward overall\n",
    "#Seasonality: Regular pattern of up and down with a cycle of 4 months"
   ]
  },
  {
   "cell_type": "code",
   "execution_count": 96,
   "metadata": {},
   "outputs": [
    {
     "data": {
      "text/plain": [
       "12"
      ]
     },
     "execution_count": 96,
     "metadata": {},
     "output_type": "execute_result"
    }
   ],
   "source": [
    "print(len(df.index))\n",
    "for x in range(0, 4):\n",
    "    tmonths = df['Month']\n",
    "    print(tmonths)\n",
    "    tsales = df['Sales']\n",
    "    length = len(df.index)\n",
    "    print(length)\n",
    "    newMonth = length+1\n",
    "    print(length)\n",
    "    newSales = (tsales[length-1] + tsales[length-2] + tsales[length-3]) / 3\n",
    "    newRow = pd.DataFrame(np.array([newSales]), columns=['Sales'])\n",
    "    newRow['Month'] = np.array([newMonth])\n",
    "    df = pd.concat([df, newRow], axis=0)\n",
    "    \n",
    "    print(df)\n",
    "    \n",
    "\n"
   ]
  },
  {
   "cell_type": "code",
   "execution_count": null,
   "metadata": {},
   "outputs": [],
   "source": []
  }
 ],
 "metadata": {
  "kernelspec": {
   "display_name": "Python 3",
   "language": "python",
   "name": "python3"
  },
  "language_info": {
   "codemirror_mode": {
    "name": "ipython",
    "version": 3
   },
   "file_extension": ".py",
   "mimetype": "text/x-python",
   "name": "python",
   "nbconvert_exporter": "python",
   "pygments_lexer": "ipython3",
   "version": "3.7.4"
  }
 },
 "nbformat": 4,
 "nbformat_minor": 2
}
